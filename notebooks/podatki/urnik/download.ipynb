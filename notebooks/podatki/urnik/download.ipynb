{
 "cells": [
  {
   "cell_type": "code",
   "execution_count": 1,
   "metadata": {},
   "outputs": [],
   "source": [
    "import os\n",
    "import requests\n",
    "import hashlib"
   ]
  },
  {
   "cell_type": "code",
   "execution_count": 2,
   "metadata": {},
   "outputs": [],
   "source": [
    "urniki = [\n",
    "    \"fri-2016_2017-zimski\",\n",
    "    \"fri-2016_2017-zimski-drugi-teden\",\n",
    "    \"fri-2016_2017-letni\",\n",
    "    \"fri-2017_2018-zimski\",\n",
    "    \"fri-2017_2018-letni-1-teden\",\n",
    "    \"fri-2018_2019-zimski\",\n",
    "    \"fri-2018_2019-letni-1-13\",\n",
    "    \"fri-2018_2019-zimski-1-6\"\n",
    "]"
   ]
  },
  {
   "cell_type": "markdown",
   "metadata": {},
   "source": [
    "Povezava do urnika je oblike:\n",
    "\n",
    "    https://urnik.fri.uni-lj.si/timetable/[urnik]/allocations?student=[vpisna]\n",
    "\n",
    "kjer `[urnik]` predstavlja enega od objavljenih urnikov, `[vpisna]` pa vpisno številko študenta."
   ]
  },
  {
   "cell_type": "markdown",
   "metadata": {},
   "source": [
    "Datoteka `vpisne.txt` vsebuje vpisne številke študentov, ki so izbrali predmet PR v študijskih letih 2016-2017, 2017-2018 in 2018-2019. Datoteka ni priložena."
   ]
  },
  {
   "cell_type": "code",
   "execution_count": 3,
   "metadata": {},
   "outputs": [
    {
     "data": {
      "text/plain": [
       "158"
      ]
     },
     "execution_count": 3,
     "metadata": {},
     "output_type": "execute_result"
    }
   ],
   "source": [
    "vpisne = [x.strip() for x in open('vpisne.txt').readlines()]\n",
    "len(vpisne)"
   ]
  },
  {
   "cell_type": "markdown",
   "metadata": {},
   "source": [
    "Pripravi preslikavo vpisna -> anonimizirana_vpisna.\n",
    "\n",
    "Prepričaj se, da je 8 zadnjih črt v preslikavi zgostitvene funkcije (hash) dovolj za bijektivno preslikavo za dane vpisne."
   ]
  },
  {
   "cell_type": "code",
   "execution_count": 4,
   "metadata": {},
   "outputs": [],
   "source": [
    "vpisna2hash = {}\n",
    "for vpisna in vpisne:\n",
    "    m = hashlib.sha256()\n",
    "    m.update(vpisna.encode())\n",
    "    vpisna_anon = str(m.hexdigest())[-8:]\n",
    "    assert vpisna2hash.setdefault(vpisna, vpisna_anon) == vpisna_anon   "
   ]
  },
  {
   "cell_type": "markdown",
   "metadata": {},
   "source": [
    "Za vsak `urnik` shrani urnike vseh `vpisnih`."
   ]
  },
  {
   "cell_type": "code",
   "execution_count": 5,
   "metadata": {},
   "outputs": [],
   "source": [
    "for urnik in urniki:\n",
    "    if not os.path.isdir(urnik):\n",
    "        os.makedirs(urnik)\n",
    "    for vpisna in vpisne:\n",
    "        url = f\"https://urnik.fri.uni-lj.si/timetable/{urnik}/allocations?student={vpisna}\"\n",
    "        html = requests.get(url).text\n",
    "        # vpisno zamenjaj z (anonimizirano) kodo\n",
    "        vpisna_anon = vpisna2hash[vpisna]\n",
    "        html = html.replace(vpisna, vpisna_anon)\n",
    "        # in shrani\n",
    "        with open(f'{urnik}/{vpisna_anon}.html', 'wt') as fout:\n",
    "            fout.write(html)"
   ]
  }
 ],
 "metadata": {
  "kernelspec": {
   "display_name": "Python [default]",
   "language": "python",
   "name": "python3"
  },
  "language_info": {
   "codemirror_mode": {
    "name": "ipython",
    "version": 3
   },
   "file_extension": ".py",
   "mimetype": "text/x-python",
   "name": "python",
   "nbconvert_exporter": "python",
   "pygments_lexer": "ipython3",
   "version": "3.6.3"
  },
  "latex_envs": {
   "LaTeX_envs_menu_present": true,
   "autocomplete": true,
   "bibliofile": "biblio.bib",
   "cite_by": "apalike",
   "current_citInitial": 1,
   "eqLabelWithNumbers": true,
   "eqNumInitial": 1,
   "hotkeys": {
    "equation": "Ctrl-E",
    "itemize": "Ctrl-I"
   },
   "labels_anchors": false,
   "latex_user_defs": false,
   "report_style_numbering": false,
   "user_envs_cfg": false
  },
  "nbTranslate": {
   "displayLangs": [
    "*"
   ],
   "hotkey": "alt-t",
   "langInMainMenu": true,
   "sourceLang": "en",
   "targetLang": "fr",
   "useGoogleTranslate": true
  }
 },
 "nbformat": 4,
 "nbformat_minor": 2
}
