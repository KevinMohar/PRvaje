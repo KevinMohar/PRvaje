{
 "cells": [
  {
   "cell_type": "markdown",
   "metadata": {
    "lang": "sl"
   },
   "source": [
    "## Uporaba Orange za klasifikacijo"
   ]
  },
  {
   "cell_type": "markdown",
   "metadata": {
    "lang": "en"
   },
   "source": [
    "## Using Orange for classification"
   ]
  },
  {
   "cell_type": "markdown",
   "metadata": {
    "lang": "sl"
   },
   "source": [
    "Orange nudi funkcije za izdelavo klasifikacijskih modelov, njihovo ocenjevanje in točkovanje."
   ]
  },
  {
   "cell_type": "markdown",
   "metadata": {
    "lang": "en"
   },
   "source": [
    "Orange implements function for construction of classification models, their evaluation and scoring. "
   ]
  },
  {
   "cell_type": "code",
   "execution_count": 1,
   "metadata": {},
   "outputs": [],
   "source": [
    "import Orange\n",
    "import numpy as np\n",
    "from numpy import random"
   ]
  },
  {
   "cell_type": "markdown",
   "metadata": {
    "lang": "sl"
   },
   "source": [
    "### Učni algoritmi (`learners`) in klasifikatorji (`classifiers`)"
   ]
  },
  {
   "cell_type": "markdown",
   "metadata": {
    "lang": "en"
   },
   "source": [
    "### Learners and Classifiers"
   ]
  },
  {
   "cell_type": "markdown",
   "metadata": {
    "lang": "sl"
   },
   "source": [
    "Klasifikacija uporablja dve vrsti objektov: učne algoritme in klasifikatorje. Učni lagoritmi\n",
    "upoštevajo podatke, označene z razredom, in vrnejo klasifikator. Glede na prve tri podatkovne primere, klasifikatorji vrnejo indekse predvidenega razreda:"
   ]
  },
  {
   "cell_type": "markdown",
   "metadata": {
    "lang": "en"
   },
   "source": [
    "Classification uses two types of objects: learners and classifiers. Learners consider class-labeled data and return a classifier. Given the first three data instances, classifiers return the indexes of predicted class:"
   ]
  },
  {
   "cell_type": "code",
   "execution_count": 2,
   "metadata": {},
   "outputs": [
    {
     "data": {
      "text/plain": [
       "array([ 0.,  0.,  1.])"
      ]
     },
     "execution_count": 2,
     "metadata": {},
     "output_type": "execute_result"
    }
   ],
   "source": [
    "data = Orange.data.Table(\"voting\")\n",
    "learner = Orange.classification.LogisticRegressionLearner()\n",
    "classifier = learner(data)\n",
    "classifier(data[:3])"
   ]
  },
  {
   "cell_type": "markdown",
   "metadata": {
    "lang": "sl"
   },
   "source": [
    "Zgoraj smo prebrali podatke, konstruirali logistično regresijo in mu dali podatkovni niz za izdelavo klasifikatorja ter ga uporabili za predvidevanje razreda prvih treh podatkovnih primerkov. Te koncepte uporabljamo tudi v naslednji kodi, ki napoveduje razrede izbranih treh primerkov v naboru podatkov:"
   ]
  },
  {
   "cell_type": "markdown",
   "metadata": {
    "lang": "en"
   },
   "source": [
    "Above, we read the data, constructed a logistic regression learner, gave it the dataset to construct a classifier, and used it to predict the class of the first three data instances. We also use these concepts in the following code that predicts the classes of the selected three instances in the dataset:"
   ]
  },
  {
   "cell_type": "code",
   "execution_count": 3,
   "metadata": {},
   "outputs": [
    {
     "name": "stdout",
     "output_type": "stream",
     "text": [
      "democrat, originally democrat\n",
      "republican, originally democrat\n",
      "republican, originally republican\n"
     ]
    }
   ],
   "source": [
    "learner = Orange.classification.LogisticRegressionLearner()\n",
    "classifier = learner(data)\n",
    "c_values = data.domain.class_var.values\n",
    "for d in data[5:8]:\n",
    "    c = classifier(d)\n",
    "    print(\"{}, originally {}\".format(c_values[int(classifier(d)[0])],\n",
    "                                     d.get_class()))"
   ]
  },
  {
   "cell_type": "markdown",
   "metadata": {
    "lang": "sl"
   },
   "source": [
    "Logistična regresija je v drugem primeru naredila napako, sicer pa je napovedana pravilno. Ni čudno, saj so bili to tudi podatki, na katerih se je učila. Naslednja koda upošteva število takih napak v celotnem naboru podatkov:"
   ]
  },
  {
   "cell_type": "markdown",
   "metadata": {
    "lang": "en"
   },
   "source": [
    "Logistic regression has made a mistake in the second case, but otherwise predicted correctly. No wonder, since this was also the data it trained from. The following code counts the number of such mistakes in the entire dataset:"
   ]
  },
  {
   "cell_type": "code",
   "execution_count": 4,
   "metadata": {},
   "outputs": [
    {
     "name": "stdout",
     "output_type": "stream",
     "text": [
      "11\n"
     ]
    }
   ],
   "source": [
    "data = Orange.data.Table(\"voting\")\n",
    "learner = Orange.classification.LogisticRegressionLearner()\n",
    "classifier = learner(data)\n",
    "print(np.sum(data.Y != classifier(data)))"
   ]
  },
  {
   "cell_type": "markdown",
   "metadata": {
    "lang": "sl"
   },
   "source": [
    "To število nam ne pove dosti o natančnosti klasifikatorja. Prejšnji teden smo spoznali boljši način. "
   ]
  },
  {
   "cell_type": "markdown",
   "metadata": {
    "lang": "en"
   },
   "source": [
    "This number does not tell us much about the accuracy of the classifier. Last week we learnt of a better way."
   ]
  },
  {
   "cell_type": "code",
   "execution_count": 5,
   "metadata": {},
   "outputs": [
    {
     "name": "stdout",
     "output_type": "stream",
     "text": [
      "Accuracy: 0.974712643678\n"
     ]
    }
   ],
   "source": [
    "from sklearn.metrics import accuracy_score\n",
    "print(\"Accuracy:\", accuracy_score(data.Y, classifier(data)))"
   ]
  },
  {
   "cell_type": "markdown",
   "metadata": {
    "lang": "sl"
   },
   "source": [
    "Če želite izvedeti, kakšna je verjetnost, da razvrščevalec dodeli, recimo, razred za demokrate, moramo klasifikator poklicati z dodatnim parametrom, ki podaja vrsto klasifikacije."
   ]
  },
  {
   "cell_type": "markdown",
   "metadata": {
    "lang": "en"
   },
   "source": [
    "To find out what is the probability that the classifier assigns to, say, democrat class, we need to call the classifier with additional parameter that specifies the classification output type."
   ]
  },
  {
   "cell_type": "code",
   "execution_count": 6,
   "metadata": {},
   "outputs": [
    {
     "name": "stdout",
     "output_type": "stream",
     "text": [
      "Probabilities for democrat:\n",
      "0.995182817108 democrat\n",
      "0.1670249087 democrat\n",
      "0.0812221255942 republican\n"
     ]
    }
   ],
   "source": [
    "data = Orange.data.Table(\"voting\")\n",
    "learner = Orange.classification.LogisticRegressionLearner()\n",
    "classifier = learner(data)\n",
    "target_class = 1\n",
    "print(\"Probabilities for %s:\" % data.domain.class_var.values[target_class])\n",
    "probabilities = classifier(data, 1)\n",
    "for p, d in zip(probabilities[5:8], data[5:8]):\n",
    "    print(p[target_class], d.get_class())"
   ]
  },
  {
   "cell_type": "markdown",
   "metadata": {
    "lang": "sl"
   },
   "source": [
    "Orange vključuje različne klasifikacijske algoritme, večina jih je ovitih iz `scikit-learn`, med drugim:\n",
    "\n",
    "* logistična regresija (`Orange.classification.LogisticRegressionLearner`)\n",
    "* k najbližjih sosedov (`Orange.classification.knn.KNNLearner`)\n",
    "* support vector machines (npr. `Orange.classification.svm.LinearSVMLearner`)\n",
    "* klasifikacijska drevesa (`Orange.classification.tree.SklTreeLearner`)\n",
    "* naključni gozd (`Orange.classification.RandomForestLearner`)\n",
    "\n",
    "Nekatere od teh so vključene v kodo, ki ocenjuje verjetnost ciljnega razreda na preskusnih podatkih. Tokrat se podatki za učenje in testiranje razlikujejo:"
   ]
  },
  {
   "cell_type": "markdown",
   "metadata": {
    "lang": "en"
   },
   "source": [
    "Orange includes a variety of classification algorithms, most of them wrapped from `scikit-learn`, including:\n",
    "\n",
    "* logistic regression (`Orange.classification.LogisticRegressionLearner`)\n",
    "* k-nearest neighbors (`Orange.classification.knn.KNNLearner`)\n",
    "* support vector machines (say, `Orange.classification.svm.LinearSVMLearner`)\n",
    "* classification trees (`Orange.classification.tree.SklTreeLearner`)\n",
    "* random forest (`Orange.classification.RandomForestLearner`)\n",
    "\n",
    "Some of these are included in the code that estimates the probability of a target class on a testing data. This time, training and test datasets are disjoint:"
   ]
  },
  {
   "cell_type": "code",
   "execution_count": 7,
   "metadata": {},
   "outputs": [
    {
     "name": "stdout",
     "output_type": "stream",
     "text": [
      "Probabilities for republican:\n",
      "original class  tree  knn   logistic regression\n",
      "republican      0.975 1.000 0.917\n",
      "republican      0.975 1.000 0.947\n",
      "democrat        0.008 0.000 0.028\n",
      "republican      0.975 1.000 0.937\n",
      "republican      0.975 0.667 0.793\n"
     ]
    }
   ],
   "source": [
    "import random\n",
    "random.seed(42)\n",
    "data = Orange.data.Table(\"voting\")\n",
    "test = Orange.data.Table(data.domain, random.sample(data, 5))\n",
    "train = Orange.data.Table(data.domain, [d for d in data if d not in test])\n",
    "\n",
    "tree = Orange.classification.tree.TreeLearner(max_depth=3)\n",
    "knn = Orange.classification.knn.KNNLearner(n_neighbors=3)\n",
    "lr = Orange.classification.LogisticRegressionLearner(C=0.1)\n",
    "\n",
    "learners = [tree, knn, lr]\n",
    "classifiers = [learner(train) for learner in learners]\n",
    "\n",
    "target = 0\n",
    "print(\"Probabilities for %s:\" % data.domain.class_var.values[target])\n",
    "print(\"original class \", \" \".join(\"%-5s\" % l.name for l in classifiers))\n",
    "\n",
    "c_values = data.domain.class_var.values\n",
    "for d in test:\n",
    "    print((\"{:<15}\" + \" {:.3f}\"*len(classifiers)).format(\n",
    "        c_values[int(d.get_class())],\n",
    "        *(c(d, 1)[0][target] for c in classifiers)))"
   ]
  },
  {
   "cell_type": "markdown",
   "metadata": {
    "lang": "sl"
   },
   "source": [
    "##### Vprašanje 5-3-1\n",
    "Preizkusi različne klasifikatorje. Kateri deluje najbolje na danih podatkih?"
   ]
  },
  {
   "cell_type": "markdown",
   "metadata": {
    "lang": "en"
   },
   "source": [
    "##### Question 5-3-1\n",
    "Test different classifiers. Which works best on given data?"
   ]
  },
  {
   "cell_type": "code",
   "execution_count": 8,
   "metadata": {},
   "outputs": [],
   "source": []
  },
  {
   "cell_type": "markdown",
   "metadata": {
    "lang": "sl"
   },
   "source": [
    "### Krivulja ROC in površina pod krivuljo (Area Under Curve - AUC)"
   ]
  },
  {
   "cell_type": "markdown",
   "metadata": {
    "lang": "en"
   },
   "source": [
    "### ROC curve and Area Under Curve (AUC)"
   ]
  },
  {
   "cell_type": "markdown",
   "metadata": {
    "lang": "sl"
   },
   "source": [
    "Krivulja ROC je način, kako oceniti kvaliteto klasifikacije. Tipično na y os označimo delež resnično pozitivnih (TP rate) in na x os delež lažno pozitivnih (FP rate). Zgornji levi kot nam tako predstavlja idealni model brez lažno pozitivnih primerov in s 100% deležem resnično pozitivnih."
   ]
  },
  {
   "cell_type": "markdown",
   "metadata": {
    "lang": "en"
   },
   "source": [
    "The ROC curve is a way to assess the quality of the classification. Typically, the y axis indicates true positive rate, and the x axis the false positive rate. The upper left corner represents an ideal model without false positives and with a 100% true positive rate."
   ]
  },
  {
   "cell_type": "code",
   "execution_count": 8,
   "metadata": {},
   "outputs": [
    {
     "data": {
      "text/plain": [
       "array([ 0.,  0.,  0., ...,  1.,  0.,  0.])"
      ]
     },
     "execution_count": 8,
     "metadata": {},
     "output_type": "execute_result"
    }
   ],
   "source": [
    "random.seed(42)  # zagotovi ponovljivost naključnih rezultatov\n",
    "\n",
    "data = Orange.data.Table('titanic')\n",
    "inxs = list(range(len(data)))\n",
    "n = len(inxs)\n",
    "\n",
    "random.shuffle(inxs)\n",
    "\n",
    "data_training = data[inxs[:n//2]]\n",
    "data_test     = data[inxs[n//2:]]\n",
    "\n",
    "learner = Orange.classification.LogisticRegressionLearner()\n",
    "classifier = learner(data_training)\n",
    "classifier(data_test)"
   ]
  },
  {
   "cell_type": "code",
   "execution_count": 9,
   "metadata": {},
   "outputs": [
    {
     "data": {
      "image/jpeg": "[encoded data removed]",
      "text/plain": [
       "<Figure size 450x300 with 1 Axes>"
      ]
     },
     "metadata": {},
     "output_type": "display_data"
    }
   ],
   "source": [
    "%matplotlib inline\n",
    "%config InlineBackend.figure_formats = ['jpg']\n",
    "import matplotlib\n",
    "matplotlib.figure.Figure.__repr__ = lambda self: (\n",
    "    f\"<{self.__class__.__name__} size {self.bbox.size[0]:g}\"\n",
    "    f\"x{self.bbox.size[1]:g} with {len(self.axes)} Axes>\")\n",
    "\n",
    "import matplotlib.pyplot as plt\n",
    "plt.style.use('PR.mplstyle')\n",
    "\n",
    "from sklearn.metrics import roc_curve, auc\n",
    "\n",
    "fpr, tpr, _ = roc_curve(classifier(data_test), data_test.Y)\n",
    "roc_auc = auc(fpr, tpr)\n",
    "\n",
    "plt.figure()\n",
    "lw = 2\n",
    "plt.plot(fpr, tpr, color='darkorange',\n",
    "         lw=lw, label='ROC curve (area = %0.2f)' % roc_auc)\n",
    "plt.plot([0, 1], [0, 1], color='navy', lw=lw, linestyle='--')\n",
    "plt.xlim([0.0, 1.0])\n",
    "plt.ylim([0.0, 1.05])\n",
    "plt.xlabel('False Positive Rate')\n",
    "plt.ylabel('True Positive Rate')\n",
    "plt.title('Receiver operating characteristic example')\n",
    "plt.legend(loc=\"lower right\")\n",
    "plt.show()"
   ]
  },
  {
   "cell_type": "markdown",
   "metadata": {
    "lang": "sl"
   },
   "source": [
    "##### Vprašanje 5-3-2\n",
    "Poišči modele z večjo površino pod krivuljo."
   ]
  },
  {
   "cell_type": "markdown",
   "metadata": {
    "lang": "en"
   },
   "source": [
    "##### Question 5-3-2\n",
    "Find models with a larger area under curve."
   ]
  },
  {
   "cell_type": "code",
   "execution_count": 10,
   "metadata": {},
   "outputs": [],
   "source": []
  },
  {
   "cell_type": "markdown",
   "metadata": {
    "lang": "sl"
   },
   "source": [
    "### Prečno preverjanje"
   ]
  },
  {
   "cell_type": "markdown",
   "metadata": {
    "lang": "en"
   },
   "source": [
    "### Cross-Validation"
   ]
  },
  {
   "cell_type": "markdown",
   "metadata": {
    "lang": "sl"
   },
   "source": [
    "Ocenjevanje točnosti klasifikatorjev na učni množici, kot smo to storili zgoraj, služi samo za predstavitvene namene. Vsako mero natančnosti, je treba oceniti na neodvisni množici. Tak je tudi postopek, imenovan prečno preverjanje, ki povpreči vrednotenje po več izvajanjih, vsakič z drugačno učno in testno množico, ki so vzorčeni iz prvotnega nabora podatkov:"
   ]
  },
  {
   "cell_type": "markdown",
   "metadata": {
    "lang": "en"
   },
   "source": [
    "Validating the accuracy of classifiers on the training data, as we did above, serves demonstration purposes only. Any performance measure that assesses accuracy should be estimated on the independent test set. Such is also a procedure called cross-validation, which averages the evaluation scores across several runs, each time considering a different training and test subsets as sampled from the original dataset:"
   ]
  },
  {
   "cell_type": "code",
   "execution_count": 10,
   "metadata": {},
   "outputs": [
    {
     "name": "stdout",
     "output_type": "stream",
     "text": [
      "Accuracy: 0.778\n",
      "AUC:      0.756\n"
     ]
    }
   ],
   "source": [
    "data = Orange.data.Table(\"titanic\")\n",
    "lr = Orange.classification.LogisticRegressionLearner()\n",
    "res = Orange.evaluation.CrossValidation(data, [lr], k=5)\n",
    "print(\"Accuracy: %.3f\" % Orange.evaluation.scoring.CA(res)[0])\n",
    "print(\"AUC:      %.3f\" % Orange.evaluation.scoring.AUC(res)[0])"
   ]
  },
  {
   "cell_type": "markdown",
   "metadata": {
    "lang": "sl"
   },
   "source": [
    "Prečno preverjanje pričakuje seznam učencev. Ocenjevalci uspešnosti vrnejo tudi seznam točk, po enega za vsakega učenca. V zgornji skripti je bil samo en učenec (lr), zato je bil vrnjen seznam dolžine ena. Skripta ocenjuje natančnost klasifikacije in površino pod krivuljo ROC."
   ]
  },
  {
   "cell_type": "markdown",
   "metadata": {
    "lang": "en"
   },
   "source": [
    "Cross-validation is expecting a list of learners. The performance estimators also return a list of scores, one for every learner. There was just one learner (lr) in the script above, hence the array of length one was returned. The script estimates classification accuracy and area under ROC curve."
   ]
  },
  {
   "cell_type": "markdown",
   "metadata": {
    "lang": "sl"
   },
   "source": [
    "Naslednja koda prečno preverja tri učence na zbirki podatkov titanic."
   ]
  },
  {
   "cell_type": "markdown",
   "metadata": {
    "lang": "en"
   },
   "source": [
    "The following code cross-validates three learners on the titanic dataset."
   ]
  },
  {
   "cell_type": "code",
   "execution_count": 11,
   "metadata": {},
   "outputs": [
    {
     "name": "stdout",
     "output_type": "stream",
     "text": [
      "         tree knn  logistic regression\n",
      "Accuracy 0.79 0.48 0.78\n",
      "AUC      0.77 0.66 0.74\n"
     ]
    }
   ],
   "source": [
    "data = Orange.data.Table(\"titanic\")\n",
    "tree = Orange.classification.tree.TreeLearner(max_depth=3)\n",
    "knn = Orange.classification.knn.KNNLearner(n_neighbors=3)\n",
    "lr = Orange.classification.LogisticRegressionLearner(C=0.1)\n",
    "learners = [tree, knn, lr]\n",
    "\n",
    "print(\" \"*9 + \" \".join(\"%-4s\" % learner.name for learner in learners))\n",
    "res = Orange.evaluation.CrossValidation(data, learners, k=5)\n",
    "print(\"Accuracy %s\" % \" \".join(\"%.2f\" % s for s in Orange.evaluation.CA(res)))\n",
    "print(\"AUC      %s\" % \" \".join(\"%.2f\" % s for s in Orange.evaluation.AUC(res)))"
   ]
  },
  {
   "cell_type": "markdown",
   "metadata": {
    "lang": "sl"
   },
   "source": [
    "Seveda lahko tudi prečno preverimo učence istega tipa z različnimi parametri."
   ]
  },
  {
   "cell_type": "markdown",
   "metadata": {
    "lang": "en"
   },
   "source": [
    "Of course, we can also cross-check learners of the same type with different parameters."
   ]
  },
  {
   "cell_type": "code",
   "execution_count": 12,
   "metadata": {},
   "outputs": [
    {
     "name": "stdout",
     "output_type": "stream",
     "text": [
      "          knn  knn  knn \n",
      "neighbors  3    6    9  \n",
      "Accuracy  0.48 0.50 0.39\n",
      "AUC       0.66 0.65 0.65\n"
     ]
    }
   ],
   "source": [
    "data = Orange.data.Table(\"titanic\")\n",
    "knn3 = Orange.classification.knn.KNNLearner(n_neighbors=3)\n",
    "knn5 = Orange.classification.knn.KNNLearner(n_neighbors=5)\n",
    "knn7 = Orange.classification.knn.KNNLearner(n_neighbors=7)\n",
    "learners = [knn3, knn5, knn7]\n",
    "\n",
    "print(\" \"*10 + \" \".join(\"%-4s\" % learner.name for learner in learners))\n",
    "res = Orange.evaluation.CrossValidation(data, learners, k=5)\n",
    "print(\"neighbors \" + \" \".join(\" %i  \" % i for i in [3, 6, 9]))\n",
    "print(\"Accuracy  %s\" % \" \".join(\"%.2f\" % s for s in Orange.evaluation.CA(res)))\n",
    "print(\"AUC       %s\" % \" \".join(\"%.2f\" % s for s in Orange.evaluation.AUC(res)))"
   ]
  },
  {
   "cell_type": "markdown",
   "metadata": {
    "lang": "sl"
   },
   "source": [
    "##### Vprašanje 5-3-3\n",
    "Izberi metodo klasificiranja in s prečnim preverjanjem testiraj različne vrednosti parametrov."
   ]
  },
  {
   "cell_type": "markdown",
   "metadata": {
    "lang": "en"
   },
   "source": [
    "##### Question 5-3-3\n",
    "Select a classifying method and use cross validation to evaluate different parameter values."
   ]
  },
  {
   "cell_type": "code",
   "execution_count": 13,
   "metadata": {},
   "outputs": [],
   "source": []
  }
 ],
 "metadata": {
  "kernelspec": {
   "display_name": "Python [default]",
   "language": "python",
   "name": "python3"
  },
  "language_info": {
   "codemirror_mode": {
    "name": "ipython",
    "version": 3
   },
   "file_extension": ".py",
   "mimetype": "text/x-python",
   "name": "python",
   "nbconvert_exporter": "python",
   "pygments_lexer": "ipython3",
   "version": "3.6.9"
  },
  "latex_envs": {
   "LaTeX_envs_menu_present": true,
   "autocomplete": true,
   "bibliofile": "biblio.bib",
   "cite_by": "apalike",
   "current_citInitial": 1,
   "eqLabelWithNumbers": true,
   "eqNumInitial": 1,
   "hotkeys": {
    "equation": "Ctrl-E",
    "itemize": "Ctrl-I"
   },
   "labels_anchors": false,
   "latex_user_defs": false,
   "report_style_numbering": false,
   "user_envs_cfg": false
  },
  "nbTranslate": {
   "displayLangs": [
    "sl"
   ],
   "hotkey": "alt-t",
   "langInMainMenu": true,
   "sourceLang": "sl",
   "targetLang": "en",
   "useGoogleTranslate": true
  }
 },
 "nbformat": 4,
 "nbformat_minor": 2
}
