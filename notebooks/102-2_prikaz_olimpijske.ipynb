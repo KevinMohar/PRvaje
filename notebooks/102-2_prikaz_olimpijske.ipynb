{
 "cells": [
  {
   "cell_type": "markdown",
   "metadata": {
    "lang": "sl"
   },
   "source": [
    "## Primer: zimske olimpijske igre, Soči 2014\n",
    "\n",
    "Na primeru podatkov o olimpijskih igrah bomo spoznali tabelarično predstavitev podatkov (atribut-vrednost) v paketu Orange. Preizkusili bomo nekatere pogoste načine grafičnega prikaza podatkov."
   ]
  },
  {
   "cell_type": "markdown",
   "metadata": {
    "lang": "en"
   },
   "source": [
    "## Example: Winter Olympics, Sochi 2014\n",
    "\n",
    "On the case of information about the Olympic Games, we will get to know the tabular presentation of the data (attribute value) in the Orange package. We will try some common ways to graphically display data."
   ]
  },
  {
   "cell_type": "code",
   "execution_count": 1,
   "metadata": {
    "lang": "sl"
   },
   "outputs": [],
   "source": [
    "%matplotlib inline\n",
    "%config InlineBackend.figure_formats = ['jpg']\n",
    "import matplotlib\n",
    "matplotlib.figure.Figure.__repr__ = lambda self: (\n",
    "    f\"<{self.__class__.__name__} size {self.bbox.size[0]:g}\"\n",
    "    f\"x{self.bbox.size[1]:g} with {len(self.axes)} Axes>\")\n",
    "\n",
    "import matplotlib.image as mpimg\n",
    "import matplotlib.pyplot as plt\n",
    "plt.style.use('PR.mplstyle')"
   ]
  },
  {
   "cell_type": "markdown",
   "metadata": {
    "lang": "sl"
   },
   "source": [
    "### Predstavitev podatkov\n",
    "\n",
    "Tokrat imamo opravka s športniki, ki so nastopali na zimskih olimpijskih igrah v ruskem letovišču Soči ob Črnem morju leta 2014. \n",
    "\n",
    "Za vsakega nastopajočega športnika so na voljo naslednji podatki (atributi):\n",
    "\n",
    "* ime in priimek,\n",
    "* starost v letih,\n",
    "* datum rojstva,\n",
    "* spol,\n",
    "* telesna višina,\n",
    "* telesna teža,\n",
    "* št. osvojenih zlatih medalj,\n",
    "* št. osvojenih srebrnih medalj,\n",
    "* št. osvojenih bronastih medalj,\n",
    "* št. vseh osvojenih medalj,\n",
    "* športna panoga,\n",
    "* država, katero zastopa.\n",
    "\n",
    "##### Vprašanje 2-2-1\n",
    "\n",
    "S kakšnim podatkovnim tipom bi predstavil/a vsakega od atributov?"
   ]
  },
  {
   "cell_type": "markdown",
   "metadata": {
    "lang": "en"
   },
   "source": [
    "### Data presentation\n",
    "\n",
    "This time we are dealing with athletes who took part in the Winter Olympics in the Russian resort Sochi near the Black Sea in 2014.\n",
    "\n",
    "The following data (attributes) are available for each athlete:\n",
    "\n",
    "* name and surname,\n",
    "* age in years,\n",
    "* date of birth,\n",
    "* gender,\n",
    "* height,\n",
    "* body weight,\n",
    "* no. won gold medals,\n",
    "* no. won silver medals,\n",
    "* no. won bronze medals,\n",
    "* no. of all medals won,\n",
    "* The sports category,\n",
    "* the country it represents.\n",
    "\n",
    "##### Question 2-2-1\n",
    "\n",
    "With what kind of data type would you present each of the attributes?"
   ]
  },
  {
   "cell_type": "code",
   "execution_count": 2,
   "metadata": {},
   "outputs": [],
   "source": []
  },
  {
   "cell_type": "markdown",
   "metadata": {
    "lang": "sl"
   },
   "source": [
    "[Odgovor](202-2.ipynb#Odgovor-2-2-1)"
   ]
  },
  {
   "cell_type": "markdown",
   "metadata": {
    "lang": "en"
   },
   "source": [
    "[Answer](202-2.ipynb#Answer-2-2-1)"
   ]
  },
  {
   "cell_type": "markdown",
   "metadata": {
    "lang": "sl"
   },
   "source": [
    "Do sedaj smo spoznali načine za shranjevanje numeričnih podatkov, kot so cela in decimalna števila. Nenumerične podatke, kot so država ter naziv tekmovalca, ne moremo enostavno predstaviti v numerični obliki. Pomagali si bomo s knjižnjico `Orange`, ki skupaj s  števili hrani naslednje tipe podatkov:\n",
    "\n",
    "* **[c]ontinuous** ali zvezni atributi, s katerimi predstavimo številske podatke (tudi cela števila),\n",
    "* **[d]iscrete** ali diskretni atributi imajo zalogo vrednosti iz končne množice. Npr. spol je element množice `{moški, ženska}` ali okusi sladoleda `{čokolada, vanilija, jagoda}`. Pomni, da za razliko od števil med elementi takih množic ne obstaja urejen vrstni red.\n",
    "* **[s]tring** ali niz znakov, hrani nize znakov poljubne (končne) dolžine."
   ]
  },
  {
   "cell_type": "markdown",
   "metadata": {
    "lang": "en"
   },
   "source": [
    "So far, we have learned ways to store numerical data, such as integers and decimal numbers. Numerical data, such as the country and the name of the competitor, can not be easily represented in numerical form. We will use the `Orange` library, which stores the following data types along with numbers:\n",
    "\n",
    "* **[c]ontinuous**  attributes to represent numerical data (including integers),\n",
    "* **[d]iscrete**  attributes have a stock of values from a finite set. For example. Gender is an element of the `{man, woman}` set, or ice-cream flavors `{chocolate, vanilla, strawberry}`. Note that, unlike with numbers, there is no order between the elements of such sets. \n",
    "* **[s]tring** of characters, stores the sets of characters of any (final) length."
   ]
  },
  {
   "cell_type": "markdown",
   "metadata": {
    "lang": "sl"
   },
   "source": [
    "##### Vprašanje 2-2-2\n",
    "\n",
    "Katerega od treh naštetih tipov podatkov bi uporabil za vsakega od atributov športnikov? Rešitev najdeš, če si ogledaš prvih nekaj vrstic datoteke [`athletes.tab`](podatki/athletes.tab)."
   ]
  },
  {
   "cell_type": "markdown",
   "metadata": {
    "lang": "en"
   },
   "source": [
    "##### Question 2-2-2\n",
    "\n",
    "Which of the three types of data would you use for each of the athletes' attributes? You can find the solution if you look at the first few lines of the file [`athletes.tab`](podatki/athletes.tab)."
   ]
  },
  {
   "cell_type": "code",
   "execution_count": 2,
   "metadata": {},
   "outputs": [],
   "source": []
  },
  {
   "cell_type": "markdown",
   "metadata": {
    "lang": "sl"
   },
   "source": [
    "[Odgovor](202-2.ipynb#Odgovor-2-2-2)"
   ]
  },
  {
   "cell_type": "markdown",
   "metadata": {
    "lang": "en"
   },
   "source": [
    "[Answer](202-2.ipynb#Answer-2-2-2)"
   ]
  },
  {
   "cell_type": "markdown",
   "metadata": {
    "lang": "sl"
   },
   "source": [
    "### Programski paket `Orange`\n",
    "\n",
    "Podatke naložimo v objekt tabela, `Table`. Podatkovni tipi atributov so določeni v datoteki.  "
   ]
  },
  {
   "cell_type": "markdown",
   "metadata": {
    "lang": "en"
   },
   "source": [
    "### `Orange` software package\n",
    "\n",
    "We load the data into the object table, `Table`. The data types of attributes are specified in the file."
   ]
  },
  {
   "cell_type": "code",
   "execution_count": 2,
   "metadata": {},
   "outputs": [],
   "source": [
    "from Orange.data.filter import SameValue\n",
    "from Orange.data import Table\n",
    "data = Table('podatki/athletes.tab')"
   ]
  },
  {
   "cell_type": "markdown",
   "metadata": {
    "lang": "sl"
   },
   "source": [
    "Domena je množica imen stolpcev."
   ]
  },
  {
   "cell_type": "markdown",
   "metadata": {
    "lang": "en"
   },
   "source": [
    "Domain is a set of column names."
   ]
  },
  {
   "cell_type": "code",
   "execution_count": 3,
   "metadata": {},
   "outputs": [
    {
     "data": {
      "text/plain": [
       "[age, gender, height, weight, gold_medals, silver_medals, bronze_medals, total_medals, sport, country] {birthdate, name}"
      ]
     },
     "execution_count": 3,
     "metadata": {},
     "output_type": "execute_result"
    }
   ],
   "source": [
    "data.domain"
   ]
  },
  {
   "cell_type": "markdown",
   "metadata": {
    "lang": "sl"
   },
   "source": [
    "Preverimo tipe posameznih atributov."
   ]
  },
  {
   "cell_type": "markdown",
   "metadata": {
    "lang": "en"
   },
   "source": [
    "Check the types of individual attributes."
   ]
  },
  {
   "cell_type": "code",
   "execution_count": 4,
   "metadata": {},
   "outputs": [
    {
     "name": "stdout",
     "output_type": "stream",
     "text": [
      "age ContinuousVariable\n",
      "gender DiscreteVariable\n",
      "height ContinuousVariable\n",
      "weight ContinuousVariable\n",
      "gold_medals ContinuousVariable\n",
      "silver_medals ContinuousVariable\n",
      "bronze_medals ContinuousVariable\n",
      "total_medals ContinuousVariable\n",
      "sport DiscreteVariable\n",
      "country DiscreteVariable\n"
     ]
    }
   ],
   "source": [
    "for column in data.domain.variables:\n",
    "    print(column, type(column))"
   ]
  },
  {
   "cell_type": "markdown",
   "metadata": {
    "lang": "sl"
   },
   "source": [
    "Za diskretne atribute lahko dostopamo do zaloge vrednosti."
   ]
  },
  {
   "cell_type": "markdown",
   "metadata": {
    "lang": "en"
   },
   "source": [
    "For discrete attributes we can access the set of values."
   ]
  },
  {
   "cell_type": "code",
   "execution_count": 5,
   "metadata": {},
   "outputs": [
    {
     "data": {
      "text/plain": [
       "['Alpine Skiing',\n",
       " 'Biathlon',\n",
       " 'Bobsleigh',\n",
       " 'Cross-Country',\n",
       " 'Curling',\n",
       " 'Freestyle Skiing',\n",
       " 'Ice Hockey',\n",
       " 'Luge',\n",
       " 'Nordic Combined',\n",
       " 'Short Track',\n",
       " 'Skeleton',\n",
       " 'Ski Jumping',\n",
       " 'Snowboard',\n",
       " 'Speed Skating']"
      ]
     },
     "execution_count": 5,
     "metadata": {},
     "output_type": "execute_result"
    }
   ],
   "source": [
    "data.domain['sport'].values"
   ]
  },
  {
   "cell_type": "markdown",
   "metadata": {
    "lang": "sl"
   },
   "source": [
    "Dostopamo lahko do posameznih vrstic:"
   ]
  },
  {
   "cell_type": "markdown",
   "metadata": {
    "lang": "en"
   },
   "source": [
    "We can access individual lines:"
   ]
  },
  {
   "cell_type": "code",
   "execution_count": 6,
   "metadata": {},
   "outputs": [
    {
     "name": "stdout",
     "output_type": "stream",
     "text": [
      "[17, Male, 1.72, 68, 0, 0, 0, 0, Freestyle Skiing, United States] {1996-04-12, Aaron Blunck}\n",
      "\n",
      "[[27, Male, 1.85, 85, 0, 0, 0, 0, Snowboard, Italy] {1986-05-14, Aaron March},\n",
      " [21, Male, 1.78, 68, 0, 0, 0, 0, Short Track, Kazakhstan] {1992-06-30, Abzal Azhgaliyev}]\n"
     ]
    }
   ],
   "source": [
    "print(data[0])\n",
    "print()\n",
    "print(data[1:3])"
   ]
  },
  {
   "cell_type": "markdown",
   "metadata": {
    "lang": "sl"
   },
   "source": [
    "Dostopamo lahko do atributov posamezne vrstice.\n",
    "Navedeni načini so ekvivalentni za dostop do športa športnika v prvi vrstici:"
   ]
  },
  {
   "cell_type": "markdown",
   "metadata": {
    "lang": "en"
   },
   "source": [
    "We can access the attributes of each line.\n",
    "These modes are equivalent to accessing the sport on the sportsman in the first line:"
   ]
  },
  {
   "cell_type": "code",
   "execution_count": 7,
   "metadata": {},
   "outputs": [
    {
     "name": "stdout",
     "output_type": "stream",
     "text": [
      "Freestyle Skiing\n",
      "Freestyle Skiing\n",
      "Freestyle Skiing\n",
      "Freestyle Skiing\n"
     ]
    }
   ],
   "source": [
    "print(data[0, 8])\n",
    "print(data[0, data.domain['sport']])\n",
    "print(data[0, data.domain.index('sport')])\n",
    "print(data[0, 'sport'])  # neposredno po imenu atributa"
   ]
  },
  {
   "cell_type": "markdown",
   "metadata": {
    "lang": "sl"
   },
   "source": [
    "Dostopamo tudi do več stolpcev hkrati:"
   ]
  },
  {
   "cell_type": "markdown",
   "metadata": {
    "lang": "en"
   },
   "source": [
    "We also access multiple columns at the same time:"
   ]
  },
  {
   "cell_type": "code",
   "execution_count": 8,
   "metadata": {},
   "outputs": [
    {
     "name": "stdout",
     "output_type": "stream",
     "text": [
      "[[Freestyle Skiing, 17] {Aaron Blunck}]\n",
      "[[Freestyle Skiing, 17] {Aaron Blunck}]\n"
     ]
    }
   ],
   "source": [
    "print(data[0, ['sport', 'name', 'age']])\n",
    "print(data[0, [8, 0, -2]])"
   ]
  },
  {
   "cell_type": "markdown",
   "metadata": {
    "lang": "sl"
   },
   "source": [
    "Številski podatki so shranjeni v numpyjevi tabeli znotraj objekta `Table`. Imena, datuma rojstva in države v tej matriki ne bomo našli. Zakaj?"
   ]
  },
  {
   "cell_type": "markdown",
   "metadata": {
    "lang": "en"
   },
   "source": [
    "Numerical data are stored in the numpy table within the `Table` object. We will not find names, date of birth, and country in this matrix. Why?"
   ]
  },
  {
   "cell_type": "code",
   "execution_count": 9,
   "metadata": {},
   "outputs": [
    {
     "data": {
      "text/plain": [
       "array([[ 17.  ,   1.  ,   1.72, ...,   0.  ,   5.  ,  79.  ],\n",
       "       [ 27.  ,   1.  ,   1.85, ...,   0.  ,  12.  ,  36.  ],\n",
       "       [ 21.  ,   1.  ,   1.78, ...,   0.  ,   9.  ,  39.  ],\n",
       "       ..., \n",
       "       [ 28.  ,   0.  ,   1.68, ...,   0.  ,  12.  ,  28.  ],\n",
       "       [ 22.  ,   1.  ,   1.76, ...,   1.  ,   5.  ,  16.  ],\n",
       "       [ 19.  ,   0.  ,   1.58, ...,   0.  ,   9.  ,  30.  ]])"
      ]
     },
     "execution_count": 9,
     "metadata": {},
     "output_type": "execute_result"
    }
   ],
   "source": [
    "data.X"
   ]
  },
  {
   "cell_type": "markdown",
   "metadata": {
    "lang": "sl"
   },
   "source": [
    "### Izbira podmnožice vrstic\n",
    "\n",
    "Za izbiro podmnožice vrstic uporabimo filter. Naredimo objekt filter, ki vključuje pogoj ter ga pokličemo na podmnožici podatkov."
   ]
  },
  {
   "cell_type": "markdown",
   "metadata": {
    "lang": "en"
   },
   "source": [
    "### Selecting a subset of rows\n",
    "\n",
    "We use a filter to select a subset of rows. Let's create a filter object that includes a condition and call it on a subset of the data."
   ]
  },
  {
   "cell_type": "code",
   "execution_count": 10,
   "metadata": {},
   "outputs": [
    {
     "data": {
      "text/plain": [
       "[[21, Male, 1.86, 82, 0, ...] {1992-07-30, Adam Barwood},\n",
       " [18, Male, 1.70, 76, 0, ...] {1995-04-22, Adam Lamhamedi},\n",
       " [23, Male, 1.78, 80, 0, ...] {1990-09-13, Adam Zampa},\n",
       " [21, Female, 1.62, 56, 0, ...] {1992-09-28, Adeline Baud},\n",
       " [29, Male, 1.82, 80, 0, ...] {1984-09-18, Adrien Theaux},\n",
       " ...\n",
       "]"
      ]
     },
     "execution_count": 10,
     "metadata": {},
     "output_type": "execute_result"
    }
   ],
   "source": [
    "# ustvarimo filter, SameValue(spremenljivka, vrednost)\n",
    "filt = SameValue(data.domain['sport'], 'Alpine Skiing')\n",
    "\n",
    "# izberi vse alpske smučarje\n",
    "data_subset = filt(data)\n",
    "data_subset"
   ]
  },
  {
   "cell_type": "markdown",
   "metadata": {
    "lang": "sl"
   },
   "source": [
    "### Prikaz točk v prostoru\n",
    "\n",
    "Poglejmo, ali sta višina in teža športnikov povezani. Za vsakega športnika narišimo točko v prostoru dveh spremelnjivk - razsevni diagram (ang. *scatter plot*)."
   ]
  },
  {
   "cell_type": "markdown",
   "metadata": {
    "lang": "en"
   },
   "source": [
    "### Display points in space\n",
    "\n",
    "Let's see if the height and weight of athletes are linked. For each athlete we draw a point in the space of two variables - a Scatter plot."
   ]
  },
  {
   "cell_type": "code",
   "execution_count": 11,
   "metadata": {},
   "outputs": [
    {
     "data": {
      "image/jpeg": "[encoded data removed]",
      "text/plain": [
       "<Figure size 432x288 with 1 Axes>"
      ]
     },
     "metadata": {
      "needs_background": "light"
     },
     "output_type": "display_data"
    }
   ],
   "source": [
    "plt.figure()\n",
    "x = data.X[:, 2]    # višina\n",
    "y = data.X[:, 3]    # teža\n",
    "plt.plot(x, y, \"k.\")\n",
    "plt.xlabel('višina (m)')\n",
    "plt.ylabel('teža (kg)');"
   ]
  },
  {
   "cell_type": "markdown",
   "metadata": {
    "lang": "sl"
   },
   "source": [
    "##### Vprašanje 2-2-3\n",
    "\n",
    "Videti je, da sta spremenljivki povezani. Ali sta višina in teža res povezani? Odgovor na to vprašanje lahko dobimo z merami korelacije. S pomočjo slednjih izmerimo, ali sta dve naključni spremenljivki povezani.\n",
    "\n",
    "<a href=\"https://en.wikipedia.org/wiki/Pearson_product-moment_correlation_coefficient\">Pearsonova korelacija</a> med spremenljivkama $X$ in $Y$ je definirana z naslednjim izrazom:\n",
    "\n",
    "$$\\rho = \\frac{(x - \\bar{x})(y - \\bar{y})}{\\sigma_x \\sigma_y}$$\n",
    "\n",
    "kjer sta $x$ in $y$ vektorja vzorcev naključnih spremenljivk $X$ in $Y$, $\\bar{x}$ in $\\bar{y}$ povprečni vrednosti, $\\sigma_x$, $\\sigma_y$ standardna odklona. Mera $\\rho$ zavzame vrednosti v intervalu [-1, 1], kjer vrednost -1 pomeni, da med spremenljivki velja negativna korelacija - sta obratno sorazmerni, vrednost 1 pa da sta premo sorazmerni. Vrednost 0 nakazuje, da sta spremenljivki neodvisni."
   ]
  },
  {
   "cell_type": "markdown",
   "metadata": {
    "lang": "en"
   },
   "source": [
    "##### Question 2-2-3\n",
    "\n",
    "It looks like the variables are linked. Are height and weight really connected? The answer to this question can be obtained with correlation measures. Using the latter, we measure whether two random variables are connected.\n",
    "\n",
    "<a href=\"https://en.wikipedia.org/wiki/Pearson_product-moment_correlation_coefficient\">Pearson's correlation</a> between the variables $X$ and $Y$ is defined with the following expression:\n",
    "\n",
    "$$\\rho = \\frac{(x - \\bar{x})(y - \\bar{y})}{\\sigma_x \\sigma_y}$$\n",
    "\n",
    "where $x$ and $y$ are vector of samples of random variables $X$ and $Y$, $\\bar{x}$ and $\\bar{y}$ are mean values, $\\sigma_x$, $\\sigma_y$ standard deviation. The $\\rho$ measure takes the values ​​in the interval [-1, 1], where the -1 value means that the variables are negatively correlated - they are inversely proportional, and the value 1 is proportional. The value 0 indicates that the variables are independent."
   ]
  },
  {
   "cell_type": "code",
   "execution_count": 12,
   "metadata": {},
   "outputs": [],
   "source": [
    "# implementiraj funkcijo, ki vrne Pearsonovo mero korelacije za vektorja x, y\n",
    "def pearson(x, y):\n",
    "    pass"
   ]
  },
  {
   "cell_type": "code",
   "execution_count": 13,
   "metadata": {},
   "outputs": [],
   "source": [
    "# preveri ali sta višina in teža povezani\n",
    "pearson(x, y)"
   ]
  },
  {
   "cell_type": "markdown",
   "metadata": {
    "lang": "sl"
   },
   "source": [
    "[Odgovor](202-2.ipynb#Odgovor-2-2-3)"
   ]
  },
  {
   "cell_type": "markdown",
   "metadata": {
    "lang": "en"
   },
   "source": [
    "[Answer](202-2.ipynb#Answer-2-2-3)"
   ]
  },
  {
   "cell_type": "markdown",
   "metadata": {
    "lang": "sl"
   },
   "source": [
    "### Prikaz porazdelitev\n",
    "\n",
    "Negotovost pri opazovanju naključne spremenljivke predstavimo s funkcijo porazdelitve. Pogost način, kako dobimo oceno za porazdelitev iz podatkov je uporaba histograma - preštejemo, koliko primerov spada v interval vrednosti spremenljivke. Poglejmo primer za telesno težo."
   ]
  },
  {
   "cell_type": "markdown",
   "metadata": {
    "lang": "en"
   },
   "source": [
    "### Display distributions\n",
    "\n",
    "We present uncertainty in the observation of a random variable with the distribution function. The common way in which we obtain an estimate for the distribution of data is the use of a histogram - counting how many cases fall into the interval of the value of the variable. Let's look at an example of body weight."
   ]
  },
  {
   "cell_type": "code",
   "execution_count": 14,
   "metadata": {
    "scrolled": true
   },
   "outputs": [
    {
     "data": {
      "image/jpeg": "[encoded data removed]",
      "text/plain": [
       "<Figure size 432x288 with 1 Axes>"
      ]
     },
     "metadata": {
      "needs_background": "light"
     },
     "output_type": "display_data"
    }
   ],
   "source": [
    "# porazdelitev tež\n",
    "weights = data.X[:, 3]\n",
    "\n",
    "plt.figure()\n",
    "plt.hist(weights, density=True, bins=20, color='blue')\n",
    "plt.xlabel('teža (kg)')\n",
    "plt.ylabel('gostota verjetnosti');"
   ]
  },
  {
   "cell_type": "markdown",
   "metadata": {
    "lang": "sl"
   },
   "source": [
    "##### Vprašanje 2-2-4\n",
    "\n",
    "Ali so porazdelitev teže med posameznimi športi razlikuje? Kaj pa višine? Izberi športnike nekaterih športov in med njimi primerjaj porazdelitve."
   ]
  },
  {
   "cell_type": "markdown",
   "metadata": {
    "lang": "en"
   },
   "source": [
    "##### Question 2-2-4\n",
    "\n",
    "Is the weight distribution different for different sports? What about the heights? Choose athletes of some sports and compare distributions between them."
   ]
  },
  {
   "cell_type": "code",
   "execution_count": 15,
   "metadata": {},
   "outputs": [],
   "source": [
    "# Primerjaj športe po porazdelitvi tež\n",
    "# Primerjaj športe po porazdelitvi višin"
   ]
  },
  {
   "cell_type": "markdown",
   "metadata": {
    "lang": "sl"
   },
   "source": [
    "[Odgovor](202-2.ipynb#Odgovor-2-2-4)"
   ]
  },
  {
   "cell_type": "markdown",
   "metadata": {
    "lang": "en"
   },
   "source": [
    "[Answer](202-2.ipynb#Answer-2-2-4)"
   ]
  },
  {
   "cell_type": "markdown",
   "metadata": {
    "lang": "sl"
   },
   "source": [
    "### Nagrade za dosego najvišjih mest\n",
    "\n",
    "Še en način prikaza porazdelitev je tortni diagram. Prikažimo, kakšen kos pogače prinese vsaka od medalj (zlato \\$25.000, srebro \\$15.000, bron \\$10.000)."
   ]
  },
  {
   "cell_type": "markdown",
   "metadata": {
    "lang": "en"
   },
   "source": [
    "### Prizes for reaching the highest places\n",
    "\n",
    "Another way of displaying distributions is a pie chart. Show what piece of cake each of the medals (gold \\$25,000, silver \\$15,000 bronze \\$10,000) brings ."
   ]
  },
  {
   "cell_type": "code",
   "execution_count": 16,
   "metadata": {
    "run_control": {
     "marked": false
    }
   },
   "outputs": [
    {
     "data": {
      "image/jpeg": "[encoded data removed]",
      "text/plain": [
       "<Figure size 216x216 with 1 Axes>"
      ]
     },
     "metadata": {},
     "output_type": "display_data"
    }
   ],
   "source": [
    "# prikaži primer slike in reprodukcija ; št medalj glede na državo\n",
    "# Nariši tortni diagram za vsako državo posebej\n",
    "\n",
    "# Denarni sklad; $25,000 za zlato, $15,000 za srebrno, $10,000 za bronasto medaljo \n",
    "total      = 25 + 15 + 10\n",
    "gold_ratio = 25 / total\n",
    "silv_ratio = 15 / total\n",
    "bron_ratio = 10 / total\n",
    "\n",
    "# barve medalj\n",
    "gold_color = '#FFDF00'\n",
    "silv_color = '#C0C0C0'\n",
    "bron_color = '#CD7F32'\n",
    "\n",
    "plt.figure(figsize=(3, 3))\n",
    "plt.pie((gold_ratio, silv_ratio, bron_ratio),\n",
    "        labels=('zlato', 'srebro', 'bron', ), \n",
    "        colors=(gold_color, silv_color, bron_color, ), \n",
    "        startangle=90);"
   ]
  },
  {
   "cell_type": "markdown",
   "metadata": {
    "lang": "sl"
   },
   "source": [
    "Lažje berljiv stolpični diagram:"
   ]
  },
  {
   "cell_type": "markdown",
   "metadata": {
    "lang": "en"
   },
   "source": [
    "An easier to read bar diagram:"
   ]
  },
  {
   "cell_type": "code",
   "execution_count": 17,
   "metadata": {},
   "outputs": [
    {
     "data": {
      "image/jpeg": "[encoded data removed]",
      "text/plain": [
       "<Figure size 216x216 with 1 Axes>"
      ]
     },
     "metadata": {
      "needs_background": "light"
     },
     "output_type": "display_data"
    }
   ],
   "source": [
    "# lažje berljivi stolpični diagram\n",
    "plt.figure(figsize=(3, 3))\n",
    "plt.bar(range(3), height=(gold_ratio, silv_ratio, bron_ratio), \n",
    "        tick_label=('zlato', 'srebro', 'bron'), \n",
    "        color=(gold_color, silv_color, bron_color))\n",
    "plt.ylabel('delež nagradnega sklada');"
   ]
  },
  {
   "cell_type": "markdown",
   "metadata": {
    "lang": "sl"
   },
   "source": [
    "### Spol udeležencev\n",
    "\n",
    "Prikažimo še bolj informativno porazdelitev, ki pokaže število moških in ženskih udeležencev iger za posamezno državo. Najprej izračunamo porazdelitev."
   ]
  },
  {
   "cell_type": "markdown",
   "metadata": {
    "lang": "en"
   },
   "source": [
    "### Gender of participants\n",
    "\n",
    "We show an even more informative distribution that shows the number of men and women participating in games for each country. First, calculate the distribution."
   ]
  },
  {
   "cell_type": "code",
   "execution_count": 18,
   "metadata": {},
   "outputs": [],
   "source": [
    "countries = data.domain['country'].values\n",
    "gender_by_country = dict()\n",
    "\n",
    "for country in countries:\n",
    "    # Filter by countries\n",
    "    filt        = SameValue(data.domain['country'], country)\n",
    "    data_subset = filt(data)\n",
    "\n",
    "    # Filter males\n",
    "    filt        = SameValue(data.domain['gender'], 'Male')\n",
    "    data_subset_male = filt(data_subset)\n",
    "\n",
    "    # Filter females\n",
    "    filt        = SameValue(data.domain['gender'], 'Female')\n",
    "    data_subset_female = filt(data_subset)\n",
    "\n",
    "    # Store gender counts\n",
    "    gender_by_country[country] = {\n",
    "        'Male': len(data_subset_male),\n",
    "        'Female': len(data_subset_female),\n",
    "    }"
   ]
  },
  {
   "cell_type": "markdown",
   "metadata": {
    "lang": "sl"
   },
   "source": [
    "Nato narišemo sliko z uporabo funkcijo `bar`:"
   ]
  },
  {
   "cell_type": "markdown",
   "metadata": {
    "lang": "en"
   },
   "source": [
    "Then draw a picture using the `bar` function:"
   ]
  },
  {
   "cell_type": "code",
   "execution_count": 19,
   "metadata": {},
   "outputs": [
    {
     "data": {
      "image/jpeg": "[encoded data removed]",
      "text/plain": [
       "<Figure size 792x288 with 1 Axes>"
      ]
     },
     "metadata": {
      "needs_background": "light"
     },
     "output_type": "display_data"
    }
   ],
   "source": [
    "m = [gender_by_country[country]['Male'] for country in countries]\n",
    "f = [gender_by_country[country]['Female'] for country in countries]\n",
    "x = range(len(countries))\n",
    "\n",
    "plt.figure(figsize=(11, 4))\n",
    "plt.bar(x, m, color='cyan', align='center')\n",
    "plt.bar(x, f, bottom=m, color='magenta', align='center')\n",
    "plt.xlim(-0.5, len(countries)-0.5)\n",
    "plt.xticks(x)\n",
    "plt.gca().set_xticklabels(countries, rotation=90)\n",
    "plt.ylabel('število športnikov');"
   ]
  },
  {
   "cell_type": "markdown",
   "metadata": {
    "lang": "sl"
   },
   "source": [
    "##### Vprašanje 2-2-5\n",
    "\n",
    "Grafu dodaj legendo."
   ]
  },
  {
   "cell_type": "markdown",
   "metadata": {
    "lang": "en"
   },
   "source": [
    "##### Question 2-2-5\n",
    "\n",
    "Add a legend to the graph."
   ]
  },
  {
   "cell_type": "code",
   "execution_count": 20,
   "metadata": {},
   "outputs": [],
   "source": []
  },
  {
   "cell_type": "markdown",
   "metadata": {
    "lang": "sl"
   },
   "source": [
    "[Odgovor](202-2.ipynb#Odgovor-2-2-5)"
   ]
  },
  {
   "cell_type": "markdown",
   "metadata": {
    "lang": "en"
   },
   "source": [
    "[Answer](202-2.ipynb#Answer-2-2-5)"
   ]
  },
  {
   "cell_type": "markdown",
   "metadata": {
    "lang": "sl"
   },
   "source": [
    "##### Vprašanje 2-2-6\n",
    "\n",
    "Zgornji graf uredi tako, da bodo države urejene po številu udeležencev in dodaj legendo."
   ]
  },
  {
   "cell_type": "markdown",
   "metadata": {
    "lang": "en"
   },
   "source": [
    "##### Question 2-2-6\n",
    "\n",
    "Edit the above graph so that the sport is arranged by the number of participants and add the legend."
   ]
  },
  {
   "cell_type": "code",
   "execution_count": 20,
   "metadata": {
    "lang": "sl"
   },
   "outputs": [],
   "source": []
  },
  {
   "cell_type": "markdown",
   "metadata": {
    "lang": "sl"
   },
   "source": [
    "[Odgovor](202-2.ipynb#Odgovor-2-2-6)"
   ]
  },
  {
   "cell_type": "markdown",
   "metadata": {
    "lang": "en"
   },
   "source": [
    "[Answer](202-2.ipynb#Answer-2-2-6)"
   ]
  },
  {
   "cell_type": "markdown",
   "metadata": {
    "lang": "sl"
   },
   "source": [
    "### Najuspešnejše države\n",
    "\n",
    "##### Vprašanje 2-2-7\n",
    "\n",
    "Nariši sliko, podobno spodnji. Diagram prikazuje porazdelitev posameznih medalj po državah. Namig: najprej predpripravi podatke, nato pa nariši diagram. Zgleduj se po prejšnih primerih."
   ]
  },
  {
   "cell_type": "markdown",
   "metadata": {
    "lang": "en"
   },
   "source": [
    "### The most successful countries\n",
    "\n",
    "##### Question 2-2-7\n",
    "\n",
    "Draw a picture, similar to the one below. The diagram shows the distribution of individual medals by country. Tip: Prepare the data first, then draw a diagram. Take a look at previous examples."
   ]
  },
  {
   "cell_type": "markdown",
   "metadata": {},
   "source": [
    "![](slike/odgovori/2-2-7.png)"
   ]
  },
  {
   "cell_type": "code",
   "execution_count": 20,
   "metadata": {},
   "outputs": [],
   "source": [
    "# izračunaj distribucijo medalj"
   ]
  },
  {
   "cell_type": "code",
   "execution_count": 21,
   "metadata": {},
   "outputs": [],
   "source": [
    "# izriši distribucijo"
   ]
  },
  {
   "cell_type": "markdown",
   "metadata": {
    "lang": "sl"
   },
   "source": [
    "[Odgovor](202-2.ipynb#Odgovor-2-2-7)"
   ]
  },
  {
   "cell_type": "markdown",
   "metadata": {
    "lang": "en"
   },
   "source": [
    "[Answer](202-2.ipynb#Answer-2-2-7)"
   ]
  },
  {
   "cell_type": "markdown",
   "metadata": {
    "lang": "sl"
   },
   "source": [
    "### Sestavljene vizualizacije"
   ]
  },
  {
   "cell_type": "markdown",
   "metadata": {
    "lang": "en"
   },
   "source": [
    "### Composite visualizations"
   ]
  },
  {
   "cell_type": "markdown",
   "metadata": {
    "lang": "sl"
   },
   "source": [
    "Namen dobre vizualizacije je prava mera podatkov na danem prostoru. Ta naj ne bo prevelika, vseeno pa želimo čimbolje izkoristiti prostor. Oglejmo si primer risanja <b>porazdelitev podatkov o višini in teži glede na posamezno športno panogo</b>.  "
   ]
  },
  {
   "cell_type": "markdown",
   "metadata": {
    "lang": "en"
   },
   "source": [
    "The purpose of a good visualization is the correct amount of data in a given space. This should not be too big, but we want to make the most of the space. Let's look at the example of drawing <b>distribution of data about height and weight by sport category</b>."
   ]
  },
  {
   "cell_type": "code",
   "execution_count": 22,
   "metadata": {},
   "outputs": [],
   "source": [
    "# priprava podatkov\n",
    "# teža in višina glede na sport; sport se nahaja v 8 stolpcu\n",
    "sports = data.domain['sport'].values\n",
    "weights_by_sport = dict()\n",
    "heights_by_sport = dict()\n",
    "ages_by_sport = dict()\n",
    "\n",
    "for sport in sports:\n",
    "    filt = SameValue(data.domain['sport'], sport)\n",
    "    data_subset = filt(data)\n",
    "    \n",
    "    w = data_subset[:, data.domain.index('weight')].X.ravel()\n",
    "    h = data_subset[:, data.domain.index('height')].X.ravel()\n",
    "    a = data_subset[:, data.domain.index('age')].X.ravel()\n",
    "    \n",
    "    weights_by_sport[sport] = w\n",
    "    heights_by_sport[sport] = h\n",
    "    ages_by_sport[sport]    = a"
   ]
  },
  {
   "cell_type": "markdown",
   "metadata": {
    "lang": "sl"
   },
   "source": [
    "##### Vprašanje 2-2-8\n",
    "\n",
    "Nariši sliko, podobno spodnji. Diagram prikazuje porazdelitev višine po športih. Za vsakega igralca narišimo točko, kjer bo velikost točke premo sorazmerna s težo športnika. Osi x in y bomo izkoristili tako, da na osi x narišemo višino, na osi y pa bo posamezna športna panoga."
   ]
  },
  {
   "cell_type": "markdown",
   "metadata": {
    "lang": "en"
   },
   "source": [
    "##### Question 2-2-8\n",
    "\n",
    "Draw a picture, similar to the one below. The diagram shows the height distribution by sports. For each player, we draw a point where the point size is proportional to the weight of the athlete. Axes x and y will be used to draw the height on the x-axis, and the y-axis will be an individual sporting industry."
   ]
  },
  {
   "cell_type": "markdown",
   "metadata": {},
   "source": [
    "![](slike/odgovori/2-2-8.png)"
   ]
  },
  {
   "cell_type": "code",
   "execution_count": 23,
   "metadata": {},
   "outputs": [],
   "source": [
    "# napiši kodo za izris slike"
   ]
  },
  {
   "cell_type": "markdown",
   "metadata": {
    "lang": "sl"
   },
   "source": [
    "[Odgovor](202-2.ipynb#Odgovor-2-2-8)"
   ]
  },
  {
   "cell_type": "markdown",
   "metadata": {
    "lang": "en"
   },
   "source": [
    "[Aswer](202-2.ipynb#Answer-2-2-8)"
   ]
  },
  {
   "cell_type": "markdown",
   "metadata": {
    "lang": "sl"
   },
   "source": [
    "##### Vprašanje 2-2-9\n",
    "\n",
    "Uredi zgornji graf tako, da bodo športi urejeni po povprečni višini. Poizkusi tudi spreminjati količine na posameznih oseh (x, y, velikost pike)."
   ]
  },
  {
   "cell_type": "markdown",
   "metadata": {
    "lang": "en"
   },
   "source": [
    "##### Question 2-2-9\n",
    "\n",
    "Edit the graph above so that the sports are arranged by the average height. Try also to change the quantities on the individual axes (x, y, the size of the dots)."
   ]
  },
  {
   "cell_type": "code",
   "execution_count": 24,
   "metadata": {},
   "outputs": [],
   "source": []
  },
  {
   "cell_type": "markdown",
   "metadata": {
    "lang": "sl"
   },
   "source": [
    "[Odgovor](202-2.ipynb#Odgovor-2-2-9)"
   ]
  },
  {
   "cell_type": "markdown",
   "metadata": {
    "lang": "en"
   },
   "source": [
    "[Answer](202-2.ipynb#Answer-2-2-9)"
   ]
  }
 ],
 "metadata": {
  "kernelspec": {
   "display_name": "Python [default]",
   "language": "python",
   "name": "python3"
  },
  "language_info": {
   "codemirror_mode": {
    "name": "ipython",
    "version": 3
   },
   "file_extension": ".py",
   "mimetype": "text/x-python",
   "name": "python",
   "nbconvert_exporter": "python",
   "pygments_lexer": "ipython3",
   "version": "3.6.9"
  },
  "latex_envs": {
   "LaTeX_envs_menu_present": true,
   "autocomplete": true,
   "bibliofile": "biblio.bib",
   "cite_by": "apalike",
   "current_citInitial": 1,
   "eqLabelWithNumbers": true,
   "eqNumInitial": 1,
   "hotkeys": {
    "equation": "Ctrl-E",
    "itemize": "Ctrl-I"
   },
   "labels_anchors": false,
   "latex_user_defs": false,
   "report_style_numbering": false,
   "user_envs_cfg": false
  },
  "nbTranslate": {
   "displayLangs": [
    "sl"
   ],
   "hotkey": "alt-t",
   "langInMainMenu": true,
   "sourceLang": "sl",
   "targetLang": "en",
   "useGoogleTranslate": true
  },
  "toc": {
   "nav_menu": {},
   "number_sections": true,
   "sideBar": true,
   "skip_h1_title": false,
   "toc_cell": false,
   "toc_position": {},
   "toc_section_display": "block",
   "toc_window_display": false
  }
 },
 "nbformat": 4,
 "nbformat_minor": 1
}
